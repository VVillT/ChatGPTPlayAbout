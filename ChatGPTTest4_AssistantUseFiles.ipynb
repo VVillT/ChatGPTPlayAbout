{
 "cells": [
  {
   "cell_type": "code",
   "execution_count": 98,
   "id": "f9d5f18e-3df9-4a48-8000-e5a7f81cf811",
   "metadata": {},
   "outputs": [],
   "source": [
    "import numpy as np \n",
    "import pandas as pd\n",
    "import datetime, csv, os , glob , time\n",
    "from credential import *"
   ]
  },
  {
   "cell_type": "code",
   "execution_count": 20,
   "id": "fcbf88a4-0e29-48e6-a55e-44d0f9af0798",
   "metadata": {},
   "outputs": [
    {
     "name": "stdout",
     "output_type": "stream",
     "text": [
      "1.6.1\n"
     ]
    }
   ],
   "source": [
    "import openai\n",
    "from openai import OpenAI\n",
    "print(openai.__version__) #Test if it is working"
   ]
  },
  {
   "cell_type": "code",
   "execution_count": 31,
   "id": "f2c173e0-9db6-4695-99b6-a62c14396710",
   "metadata": {
    "tags": []
   },
   "outputs": [],
   "source": [
    "apikey = credential.api_key"
   ]
  },
  {
   "cell_type": "code",
   "execution_count": 33,
   "id": "fa2a1891-2a27-4be5-8c5d-5af24abead50",
   "metadata": {},
   "outputs": [],
   "source": [
    "client = OpenAI(api_key=apikey)\n",
    "#Environment Variable - not working"
   ]
  },
  {
   "cell_type": "markdown",
   "id": "12285f2e-6a9a-4bf1-9d8f-e6b384f82149",
   "metadata": {},
   "source": [
    "## Bringing in instruction files: \n",
    "- The file is a word document: 'SurveySupportInformation.docx'"
   ]
  },
  {
   "cell_type": "code",
   "execution_count": 88,
   "id": "893fcfb5-1e04-4981-8eb1-014dbb47571a",
   "metadata": {},
   "outputs": [],
   "source": [
    "#Build a loop for more files to come: \n",
    "files_to_upload = ['SurveySupportInformation.docx']"
   ]
  },
  {
   "cell_type": "code",
   "execution_count": 89,
   "id": "97a1de27-1441-4959-a287-a1c280cc42b7",
   "metadata": {},
   "outputs": [],
   "source": [
    "def upload_assistant_file(filename):\n",
    "    file = client.files.create(\n",
    "      file=open(filename, \"rb\"),\n",
    "      purpose='assistants'\n",
    "    )\n",
    "    print(file.id)"
   ]
  },
  {
   "cell_type": "code",
   "execution_count": 90,
   "id": "b3fd88cb-d001-45bc-b173-31c9c78708fb",
   "metadata": {},
   "outputs": [
    {
     "name": "stdout",
     "output_type": "stream",
     "text": [
      "file-SEvkSO7e9C720c3MT1EqvAtH\n"
     ]
    }
   ],
   "source": [
    "for file in files_to_upload:\n",
    "    upload_assistant_file(file)"
   ]
  },
  {
   "cell_type": "code",
   "execution_count": 91,
   "id": "080d10c6-1098-4c85-8a96-06784b8e09d6",
   "metadata": {},
   "outputs": [
    {
     "name": "stdout",
     "output_type": "stream",
     "text": [
      "SurveySupportInformation.docx has id of: file-SEvkSO7e9C720c3MT1EqvAtH\n"
     ]
    }
   ],
   "source": [
    "#Loop to confirm the file is uploaded...\n",
    "for file in client.files.list():\n",
    "    print(f\"{file.filename} has id of: {file.id}\")"
   ]
  },
  {
   "cell_type": "markdown",
   "id": "3f90ba1d-36ed-4e9b-a096-6f7a7b4d8572",
   "metadata": {},
   "source": [
    "## Adding file(s)' information for the assistant \n",
    "(NOT MESSAGE as we are not asking Chat GPT to output something with the data) \n"
   ]
  },
  {
   "cell_type": "code",
   "execution_count": 92,
   "id": "7035630b-8c5c-497c-a288-2e1de802ef16",
   "metadata": {},
   "outputs": [],
   "source": [
    "# Add the file to the assistant\n",
    "assistant = client.beta.assistants.create(\n",
    "  instructions=\"You provide information to support user to finish the survey based on the word documents available in your knowledge base.\",\n",
    "  model=\"gpt-3.5-turbo-1106\", # CHECK FOR ERROR IF YOU PROVIDE THE WRONG MODEL\n",
    "  tools=[{\"type\": \"retrieval\"}],\n",
    "  file_ids= ['file-SEvkSO7e9C720c3MT1EqvAtH'])"
   ]
  },
  {
   "cell_type": "markdown",
   "id": "20a6d9d1-fbd6-47d1-bb48-5585c78935f2",
   "metadata": {},
   "source": [
    "## Run the survey"
   ]
  },
  {
   "cell_type": "code",
   "execution_count": 93,
   "id": "fad9b46c-8fb2-4fd8-b640-32dafdec1211",
   "metadata": {},
   "outputs": [],
   "source": [
    "thread = client.beta.threads.create()"
   ]
  },
  {
   "cell_type": "code",
   "execution_count": 94,
   "id": "aa62360e-d236-4844-9f82-299ac7e08c82",
   "metadata": {},
   "outputs": [],
   "source": [
    "message = client.beta.threads.messages.create(\n",
    "    thread_id=thread.id,\n",
    "    role=\"user\",\n",
    "    content=\"How many questions are there in the survey, can you list them all?\"\n",
    ")"
   ]
  },
  {
   "cell_type": "code",
   "execution_count": 95,
   "id": "6cb3759a-4cd5-4eee-8e58-ca6eca5a33df",
   "metadata": {},
   "outputs": [],
   "source": [
    "run = client.beta.threads.runs.create(\n",
    "  thread_id=thread.id,\n",
    "  assistant_id=assistant.id,\n",
    ")"
   ]
  },
  {
   "cell_type": "code",
   "execution_count": 96,
   "id": "dd52f106-f1cf-473a-a57e-75730e114ca6",
   "metadata": {},
   "outputs": [
    {
     "name": "stdout",
     "output_type": "stream",
     "text": [
      "in_progress\n"
     ]
    }
   ],
   "source": [
    "run = client.beta.threads.runs.retrieve(\n",
    "  thread_id=thread.id,\n",
    "  run_id=run.id,\n",
    ")\n",
    "print(run.status)"
   ]
  },
  {
   "cell_type": "code",
   "execution_count": 99,
   "id": "a8551089-18cd-4368-b160-b81dfb00c3ee",
   "metadata": {},
   "outputs": [],
   "source": [
    "def display_thread_messages(messages):\n",
    "    # EXPECTS MESSAGES IN ASC ORDER!\n",
    "    for thread_message in messages.data:\n",
    "        print(thread_message.content[0].text.value)\n",
    "        print('\\n')\n",
    "        \n",
    "def wait_on_run(run, thread):\n",
    "    while run.status == \"queued\" or run.status == \"in_progress\":\n",
    "        run = client.beta.threads.runs.retrieve(\n",
    "            thread_id=thread.id,\n",
    "            run_id=run.id,\n",
    "        )\n",
    "        time.sleep(1)\n",
    "    return run\n",
    "run = wait_on_run(run,thread)"
   ]
  },
  {
   "cell_type": "code",
   "execution_count": 100,
   "id": "302ac504-6843-4938-92e6-840d277ad8fd",
   "metadata": {},
   "outputs": [
    {
     "data": {
      "text/plain": [
       "'completed'"
      ]
     },
     "execution_count": 100,
     "metadata": {},
     "output_type": "execute_result"
    }
   ],
   "source": [
    "run.status"
   ]
  },
  {
   "cell_type": "code",
   "execution_count": 101,
   "id": "329c35b1-7aab-4054-ad8f-827ad737912a",
   "metadata": {},
   "outputs": [],
   "source": [
    "messages = client.beta.threads.messages.list(\n",
    "    thread_id=thread.id, order=\"asc\",\n",
    ")"
   ]
  },
  {
   "cell_type": "code",
   "execution_count": 102,
   "id": "bda547f2-f54e-442c-8c45-50a5e69fec5c",
   "metadata": {},
   "outputs": [
    {
     "name": "stdout",
     "output_type": "stream",
     "text": [
      "ThreadMessage(id='msg_j7xoKAza2YRhKF7jqPe04oPx', assistant_id=None, content=[MessageContentText(text=Text(annotations=[], value='How many questions are there in the survey, can you list them all?'), type='text')], created_at=1703807010, file_ids=[], metadata={}, object='thread.message', role='user', run_id=None, thread_id='thread_EHqnBPF9D3b3aWoLCMrjlqo1')\n",
      "\n",
      "\n",
      "ThreadMessage(id='msg_FRNYQnH7lzBHgc75sunExu0X', assistant_id='asst_jrNI0BPCd9CqS1rEm8o8B6Ev', content=[MessageContentText(text=Text(annotations=[], value=\"The survey contains six questions, each with multiple choice responses. Here are the questions listed:\\n\\n1. Stable Income: choose between\\n   - Our household income is stable\\n   - Our household income doesn’t change that much\\n   - Our household income always goes up and down and we can’t plan ahead.\\n\\n2. Access to Gas/Electricity: choose between\\n   - We can afford to pay for gas and/or electricity of all of the time.\\n   - We have gas and/or electricity but we can't use it all the time because of the cost.\\n   - In the past year sometimes there has been no gas or electricity and we have had to choose between cooking or heating.\\n\\n3. Communication & social capital: choose between\\n   - We mix with many people who are a good influence on us. We use these connections to open up opportunities.\\n   - We mix with people but we don't make the most of it.\\n   - In our household we don't mix much and those people we know have a bad influence on some of us.\\n\\n4. Dental Care: choose between\\n   - In our household everyone visits a dentist regularly.\\n   - Someone in our household has not been to the dentist in the past 5 years.\\n   - In our household someone needs to see a dentist but can't/doesn't know how to or can't pay for it.\\n\\n5. Registered to vote: choose between\\n   - Everyone in our household is registered to vote and always does.\\n   - Everyone in our household is registered to vote but doesn't always.\\n   - In our household no one is registered to vote or we can't be bothered to vote.\\n\\n6. Entrepreneurial spirit: choose between\\n   - In our household we have goals and we know how to achieve them.\\n   - In our household we have some goals but can't always achieve them.\\n   - In our household we don't have any goals or want any change.\"), type='text')], created_at=1703807012, file_ids=[], metadata={}, object='thread.message', role='assistant', run_id='run_cU7sEIRSBVOzjCuFpT5hKmZz', thread_id='thread_EHqnBPF9D3b3aWoLCMrjlqo1')\n",
      "\n",
      "\n"
     ]
    }
   ],
   "source": [
    "for message in messages:\n",
    "    print(message)\n",
    "    print('\\n')"
   ]
  },
  {
   "cell_type": "code",
   "execution_count": 103,
   "id": "2489590e-65ca-4e30-b828-24ec5e977e28",
   "metadata": {},
   "outputs": [
    {
     "name": "stdout",
     "output_type": "stream",
     "text": [
      "How many questions are there in the survey, can you list them all?\n",
      "\n",
      "\n",
      "The survey contains six questions, each with multiple choice responses. Here are the questions listed:\n",
      "\n",
      "1. Stable Income: choose between\n",
      "   - Our household income is stable\n",
      "   - Our household income doesn’t change that much\n",
      "   - Our household income always goes up and down and we can’t plan ahead.\n",
      "\n",
      "2. Access to Gas/Electricity: choose between\n",
      "   - We can afford to pay for gas and/or electricity of all of the time.\n",
      "   - We have gas and/or electricity but we can't use it all the time because of the cost.\n",
      "   - In the past year sometimes there has been no gas or electricity and we have had to choose between cooking or heating.\n",
      "\n",
      "3. Communication & social capital: choose between\n",
      "   - We mix with many people who are a good influence on us. We use these connections to open up opportunities.\n",
      "   - We mix with people but we don't make the most of it.\n",
      "   - In our household we don't mix much and those people we know have a bad influence on some of us.\n",
      "\n",
      "4. Dental Care: choose between\n",
      "   - In our household everyone visits a dentist regularly.\n",
      "   - Someone in our household has not been to the dentist in the past 5 years.\n",
      "   - In our household someone needs to see a dentist but can't/doesn't know how to or can't pay for it.\n",
      "\n",
      "5. Registered to vote: choose between\n",
      "   - Everyone in our household is registered to vote and always does.\n",
      "   - Everyone in our household is registered to vote but doesn't always.\n",
      "   - In our household no one is registered to vote or we can't be bothered to vote.\n",
      "\n",
      "6. Entrepreneurial spirit: choose between\n",
      "   - In our household we have goals and we know how to achieve them.\n",
      "   - In our household we have some goals but can't always achieve them.\n",
      "   - In our household we don't have any goals or want any change.\n",
      "\n",
      "\n"
     ]
    }
   ],
   "source": [
    "display_thread_messages(messages)"
   ]
  },
  {
   "cell_type": "code",
   "execution_count": 104,
   "id": "56733368-074b-42b2-8a7c-c9be56d20602",
   "metadata": {},
   "outputs": [],
   "source": [
    "message = client.beta.threads.messages.create(\n",
    "    thread_id=thread.id,\n",
    "    role=\"user\",\n",
    "    content=\"Can I have the question in Chinese? Also for question 1, I work on zero hour contract, is that means I have unstable income?\"\n",
    ")"
   ]
  },
  {
   "cell_type": "code",
   "execution_count": 105,
   "id": "62ebe5ec-133c-4e2e-a73e-51ebef61c25c",
   "metadata": {},
   "outputs": [],
   "source": [
    "run = client.beta.threads.runs.create(\n",
    "  thread_id=thread.id,\n",
    "  assistant_id=assistant.id,\n",
    ")"
   ]
  },
  {
   "cell_type": "code",
   "execution_count": 106,
   "id": "0156a20c-8e13-4d77-aaa2-3f6461827b85",
   "metadata": {},
   "outputs": [
    {
     "name": "stdout",
     "output_type": "stream",
     "text": [
      "in_progress\n"
     ]
    }
   ],
   "source": [
    "run = client.beta.threads.runs.retrieve(\n",
    "  thread_id=thread.id,\n",
    "  run_id=run.id,\n",
    ")\n",
    "print(run.status)"
   ]
  },
  {
   "cell_type": "code",
   "execution_count": 107,
   "id": "9190d9da-61c8-4760-b123-e1ac542a398d",
   "metadata": {},
   "outputs": [],
   "source": [
    "run = wait_on_run(run,thread)"
   ]
  },
  {
   "cell_type": "code",
   "execution_count": 108,
   "id": "145643eb-4cdc-4fa3-bbc2-37b67c75e9da",
   "metadata": {},
   "outputs": [],
   "source": [
    "messages = client.beta.threads.messages.list(\n",
    "    thread_id=thread.id, order=\"asc\",\n",
    ")"
   ]
  },
  {
   "cell_type": "code",
   "execution_count": 109,
   "id": "844d7242-27af-4f29-9897-b814ffd75fc9",
   "metadata": {},
   "outputs": [
    {
     "name": "stdout",
     "output_type": "stream",
     "text": [
      "How many questions are there in the survey, can you list them all?\n",
      "\n",
      "\n",
      "The survey contains six questions, each with multiple choice responses. Here are the questions listed:\n",
      "\n",
      "1. Stable Income: choose between\n",
      "   - Our household income is stable\n",
      "   - Our household income doesn’t change that much\n",
      "   - Our household income always goes up and down and we can’t plan ahead.\n",
      "\n",
      "2. Access to Gas/Electricity: choose between\n",
      "   - We can afford to pay for gas and/or electricity of all of the time.\n",
      "   - We have gas and/or electricity but we can't use it all the time because of the cost.\n",
      "   - In the past year sometimes there has been no gas or electricity and we have had to choose between cooking or heating.\n",
      "\n",
      "3. Communication & social capital: choose between\n",
      "   - We mix with many people who are a good influence on us. We use these connections to open up opportunities.\n",
      "   - We mix with people but we don't make the most of it.\n",
      "   - In our household we don't mix much and those people we know have a bad influence on some of us.\n",
      "\n",
      "4. Dental Care: choose between\n",
      "   - In our household everyone visits a dentist regularly.\n",
      "   - Someone in our household has not been to the dentist in the past 5 years.\n",
      "   - In our household someone needs to see a dentist but can't/doesn't know how to or can't pay for it.\n",
      "\n",
      "5. Registered to vote: choose between\n",
      "   - Everyone in our household is registered to vote and always does.\n",
      "   - Everyone in our household is registered to vote but doesn't always.\n",
      "   - In our household no one is registered to vote or we can't be bothered to vote.\n",
      "\n",
      "6. Entrepreneurial spirit: choose between\n",
      "   - In our household we have goals and we know how to achieve them.\n",
      "   - In our household we have some goals but can't always achieve them.\n",
      "   - In our household we don't have any goals or want any change.\n",
      "\n",
      "\n",
      "Can I have the question in Chinese? Also for question 1, I work on zero hour contract, is that means I have unstable income?\n",
      "\n",
      "\n",
      "The question regarding stable income in the survey can be translated to Chinese as follows:\n",
      "\n",
      "1. 稳定收入：在以下选项中做出选择\n",
      "   - 我们的家庭收入是稳定的\n",
      "   - 我们的家庭收入变动不大\n",
      "   - 我们的家庭收入总是忽高忽低，我们无法提前规划【9†source】【10†source】【11†source】\n",
      "\n",
      "As for your specific situation with a zero-hour contract, based on the options provided in the survey, having a zero-hour contract might be considered as \"Our household income always goes up and down and we can’t plan ahead.\" Nonetheless, it's essential to review the specific terms and fluctuations of your income to determine the most accurate response.\n",
      "\n",
      "\n"
     ]
    }
   ],
   "source": [
    "display_thread_messages(messages)"
   ]
  },
  {
   "cell_type": "markdown",
   "id": "0a34d9f3-dc36-4c27-92eb-85b55aab9d22",
   "metadata": {},
   "source": [
    "# Costly but trying to loop! "
   ]
  },
  {
   "cell_type": "code",
   "execution_count": 111,
   "id": "d9f2b7ed-c122-47d5-8d19-a5579d6eb502",
   "metadata": {},
   "outputs": [
    {
     "name": "stdout",
     "output_type": "stream",
     "text": [
      "ASSISTENT CONNECTED, TYPE 'BYE' TO END THE CONVERSATION\n"
     ]
    },
    {
     "name": "stdin",
     "output_type": "stream",
     "text": [
      " What are the questions of the survey\n"
     ]
    },
    {
     "name": "stdout",
     "output_type": "stream",
     "text": [
      "How many questions are there in the survey, can you list them all?\n",
      "\n",
      "\n",
      "The survey contains six questions, each with multiple choice responses. Here are the questions listed:\n",
      "\n",
      "1. Stable Income: choose between\n",
      "   - Our household income is stable\n",
      "   - Our household income doesn’t change that much\n",
      "   - Our household income always goes up and down and we can’t plan ahead.\n",
      "\n",
      "2. Access to Gas/Electricity: choose between\n",
      "   - We can afford to pay for gas and/or electricity of all of the time.\n",
      "   - We have gas and/or electricity but we can't use it all the time because of the cost.\n",
      "   - In the past year sometimes there has been no gas or electricity and we have had to choose between cooking or heating.\n",
      "\n",
      "3. Communication & social capital: choose between\n",
      "   - We mix with many people who are a good influence on us. We use these connections to open up opportunities.\n",
      "   - We mix with people but we don't make the most of it.\n",
      "   - In our household we don't mix much and those people we know have a bad influence on some of us.\n",
      "\n",
      "4. Dental Care: choose between\n",
      "   - In our household everyone visits a dentist regularly.\n",
      "   - Someone in our household has not been to the dentist in the past 5 years.\n",
      "   - In our household someone needs to see a dentist but can't/doesn't know how to or can't pay for it.\n",
      "\n",
      "5. Registered to vote: choose between\n",
      "   - Everyone in our household is registered to vote and always does.\n",
      "   - Everyone in our household is registered to vote but doesn't always.\n",
      "   - In our household no one is registered to vote or we can't be bothered to vote.\n",
      "\n",
      "6. Entrepreneurial spirit: choose between\n",
      "   - In our household we have goals and we know how to achieve them.\n",
      "   - In our household we have some goals but can't always achieve them.\n",
      "   - In our household we don't have any goals or want any change.\n",
      "\n",
      "\n",
      "Can I have the question in Chinese? Also for question 1, I work on zero hour contract, is that means I have unstable income?\n",
      "\n",
      "\n",
      "The question regarding stable income in the survey can be translated to Chinese as follows:\n",
      "\n",
      "1. 稳定收入：在以下选项中做出选择\n",
      "   - 我们的家庭收入是稳定的\n",
      "   - 我们的家庭收入变动不大\n",
      "   - 我们的家庭收入总是忽高忽低，我们无法提前规划【9†source】【10†source】【11†source】\n",
      "\n",
      "As for your specific situation with a zero-hour contract, based on the options provided in the survey, having a zero-hour contract might be considered as \"Our household income always goes up and down and we can’t plan ahead.\" Nonetheless, it's essential to review the specific terms and fluctuations of your income to determine the most accurate response.\n",
      "\n",
      "\n",
      "What are the questions of the survey\n",
      "\n",
      "\n",
      "The questions in the survey are as follows:\n",
      "\n",
      "1. Stable Income: choose between\n",
      "   - Our household income is stable\n",
      "   - Our household income doesn’t change that much\n",
      "   - Our household income always goes up and down and we can’t plan ahead.\n",
      "\n",
      "2. Access to Gas/Electricity: choose between\n",
      "   - We can afford to pay for gas and/or electricity of all of the time.\n",
      "   - We have gas and/or electricity but we can't use it all the time because of the cost.\n",
      "   - In the past year sometimes there has been no gas or electricity and we have had to choose between cooking or heating.\n",
      "\n",
      "3. Communication & social capital: choose between\n",
      "   - We mix with many people who are a good influence on us. We use these connections to open up opportunities.\n",
      "   - We mix with people but we don't make the most of it.\n",
      "   - In our household we don't mix much and those people we know have a bad influence on some of us.\n",
      "\n",
      "4. Dental Care: choose between\n",
      "   - In our household everyone visits a dentist regularly.\n",
      "   - Someone in our household has not been to the dentist in the past 5 years.\n",
      "   - In our household someone needs to see a dentist but can't/doesn't know how to or can't pay for it.\n",
      "\n",
      "5. Registered to vote: choose between\n",
      "   - Everyone in our household is registered to vote and always does.\n",
      "   - Everyone in our household is registered to vote but doesn't always.\n",
      "   - In our household no one is registered to vote or we can't be bothered to vote.\n",
      "\n",
      "6. Entrepreneurial spirit: choose between\n",
      "   - In our household we have goals and we know how to achieve them.\n",
      "   - In our household we have some goals but can't always achieve them.\n",
      "   - In our household we don't have any goals or want any change【9†source】【10†source】【11†source】.\n",
      "\n",
      "\n"
     ]
    },
    {
     "name": "stdin",
     "output_type": "stream",
     "text": [
      " On Dental Care, what should I choose if I go to dentist every year but my wife havent been for 6 years \n"
     ]
    },
    {
     "name": "stdout",
     "output_type": "stream",
     "text": [
      "How many questions are there in the survey, can you list them all?\n",
      "\n",
      "\n",
      "The survey contains six questions, each with multiple choice responses. Here are the questions listed:\n",
      "\n",
      "1. Stable Income: choose between\n",
      "   - Our household income is stable\n",
      "   - Our household income doesn’t change that much\n",
      "   - Our household income always goes up and down and we can’t plan ahead.\n",
      "\n",
      "2. Access to Gas/Electricity: choose between\n",
      "   - We can afford to pay for gas and/or electricity of all of the time.\n",
      "   - We have gas and/or electricity but we can't use it all the time because of the cost.\n",
      "   - In the past year sometimes there has been no gas or electricity and we have had to choose between cooking or heating.\n",
      "\n",
      "3. Communication & social capital: choose between\n",
      "   - We mix with many people who are a good influence on us. We use these connections to open up opportunities.\n",
      "   - We mix with people but we don't make the most of it.\n",
      "   - In our household we don't mix much and those people we know have a bad influence on some of us.\n",
      "\n",
      "4. Dental Care: choose between\n",
      "   - In our household everyone visits a dentist regularly.\n",
      "   - Someone in our household has not been to the dentist in the past 5 years.\n",
      "   - In our household someone needs to see a dentist but can't/doesn't know how to or can't pay for it.\n",
      "\n",
      "5. Registered to vote: choose between\n",
      "   - Everyone in our household is registered to vote and always does.\n",
      "   - Everyone in our household is registered to vote but doesn't always.\n",
      "   - In our household no one is registered to vote or we can't be bothered to vote.\n",
      "\n",
      "6. Entrepreneurial spirit: choose between\n",
      "   - In our household we have goals and we know how to achieve them.\n",
      "   - In our household we have some goals but can't always achieve them.\n",
      "   - In our household we don't have any goals or want any change.\n",
      "\n",
      "\n",
      "Can I have the question in Chinese? Also for question 1, I work on zero hour contract, is that means I have unstable income?\n",
      "\n",
      "\n",
      "The question regarding stable income in the survey can be translated to Chinese as follows:\n",
      "\n",
      "1. 稳定收入：在以下选项中做出选择\n",
      "   - 我们的家庭收入是稳定的\n",
      "   - 我们的家庭收入变动不大\n",
      "   - 我们的家庭收入总是忽高忽低，我们无法提前规划【9†source】【10†source】【11†source】\n",
      "\n",
      "As for your specific situation with a zero-hour contract, based on the options provided in the survey, having a zero-hour contract might be considered as \"Our household income always goes up and down and we can’t plan ahead.\" Nonetheless, it's essential to review the specific terms and fluctuations of your income to determine the most accurate response.\n",
      "\n",
      "\n",
      "What are the questions of the survey\n",
      "\n",
      "\n",
      "The questions in the survey are as follows:\n",
      "\n",
      "1. Stable Income: choose between\n",
      "   - Our household income is stable\n",
      "   - Our household income doesn’t change that much\n",
      "   - Our household income always goes up and down and we can’t plan ahead.\n",
      "\n",
      "2. Access to Gas/Electricity: choose between\n",
      "   - We can afford to pay for gas and/or electricity of all of the time.\n",
      "   - We have gas and/or electricity but we can't use it all the time because of the cost.\n",
      "   - In the past year sometimes there has been no gas or electricity and we have had to choose between cooking or heating.\n",
      "\n",
      "3. Communication & social capital: choose between\n",
      "   - We mix with many people who are a good influence on us. We use these connections to open up opportunities.\n",
      "   - We mix with people but we don't make the most of it.\n",
      "   - In our household we don't mix much and those people we know have a bad influence on some of us.\n",
      "\n",
      "4. Dental Care: choose between\n",
      "   - In our household everyone visits a dentist regularly.\n",
      "   - Someone in our household has not been to the dentist in the past 5 years.\n",
      "   - In our household someone needs to see a dentist but can't/doesn't know how to or can't pay for it.\n",
      "\n",
      "5. Registered to vote: choose between\n",
      "   - Everyone in our household is registered to vote and always does.\n",
      "   - Everyone in our household is registered to vote but doesn't always.\n",
      "   - In our household no one is registered to vote or we can't be bothered to vote.\n",
      "\n",
      "6. Entrepreneurial spirit: choose between\n",
      "   - In our household we have goals and we know how to achieve them.\n",
      "   - In our household we have some goals but can't always achieve them.\n",
      "   - In our household we don't have any goals or want any change【9†source】【10†source】【11†source】.\n",
      "\n",
      "\n",
      "On Dental Care, what should I choose if I go to dentist every year but my wife havent been for 6 years \n",
      "\n",
      "\n",
      "Based on the options provided in the survey, \"In our household everyone visits a dentist regularly\" seems to be the most suitable choice for the situation where you visit the dentist every year, but your wife hasn't been for 6 years. This option captures the regularity of dental visits in the household while also acknowledging that at least one member has not visited the dentist in the past 5 years【17†source】【18†source】.\n",
      "\n",
      "\n"
     ]
    },
    {
     "name": "stdin",
     "output_type": "stream",
     "text": [
      " BYE\n"
     ]
    },
    {
     "name": "stdout",
     "output_type": "stream",
     "text": [
      "How many questions are there in the survey, can you list them all?\n",
      "\n",
      "\n",
      "The survey contains six questions, each with multiple choice responses. Here are the questions listed:\n",
      "\n",
      "1. Stable Income: choose between\n",
      "   - Our household income is stable\n",
      "   - Our household income doesn’t change that much\n",
      "   - Our household income always goes up and down and we can’t plan ahead.\n",
      "\n",
      "2. Access to Gas/Electricity: choose between\n",
      "   - We can afford to pay for gas and/or electricity of all of the time.\n",
      "   - We have gas and/or electricity but we can't use it all the time because of the cost.\n",
      "   - In the past year sometimes there has been no gas or electricity and we have had to choose between cooking or heating.\n",
      "\n",
      "3. Communication & social capital: choose between\n",
      "   - We mix with many people who are a good influence on us. We use these connections to open up opportunities.\n",
      "   - We mix with people but we don't make the most of it.\n",
      "   - In our household we don't mix much and those people we know have a bad influence on some of us.\n",
      "\n",
      "4. Dental Care: choose between\n",
      "   - In our household everyone visits a dentist regularly.\n",
      "   - Someone in our household has not been to the dentist in the past 5 years.\n",
      "   - In our household someone needs to see a dentist but can't/doesn't know how to or can't pay for it.\n",
      "\n",
      "5. Registered to vote: choose between\n",
      "   - Everyone in our household is registered to vote and always does.\n",
      "   - Everyone in our household is registered to vote but doesn't always.\n",
      "   - In our household no one is registered to vote or we can't be bothered to vote.\n",
      "\n",
      "6. Entrepreneurial spirit: choose between\n",
      "   - In our household we have goals and we know how to achieve them.\n",
      "   - In our household we have some goals but can't always achieve them.\n",
      "   - In our household we don't have any goals or want any change.\n",
      "\n",
      "\n",
      "Can I have the question in Chinese? Also for question 1, I work on zero hour contract, is that means I have unstable income?\n",
      "\n",
      "\n",
      "The question regarding stable income in the survey can be translated to Chinese as follows:\n",
      "\n",
      "1. 稳定收入：在以下选项中做出选择\n",
      "   - 我们的家庭收入是稳定的\n",
      "   - 我们的家庭收入变动不大\n",
      "   - 我们的家庭收入总是忽高忽低，我们无法提前规划【9†source】【10†source】【11†source】\n",
      "\n",
      "As for your specific situation with a zero-hour contract, based on the options provided in the survey, having a zero-hour contract might be considered as \"Our household income always goes up and down and we can’t plan ahead.\" Nonetheless, it's essential to review the specific terms and fluctuations of your income to determine the most accurate response.\n",
      "\n",
      "\n",
      "What are the questions of the survey\n",
      "\n",
      "\n",
      "The questions in the survey are as follows:\n",
      "\n",
      "1. Stable Income: choose between\n",
      "   - Our household income is stable\n",
      "   - Our household income doesn’t change that much\n",
      "   - Our household income always goes up and down and we can’t plan ahead.\n",
      "\n",
      "2. Access to Gas/Electricity: choose between\n",
      "   - We can afford to pay for gas and/or electricity of all of the time.\n",
      "   - We have gas and/or electricity but we can't use it all the time because of the cost.\n",
      "   - In the past year sometimes there has been no gas or electricity and we have had to choose between cooking or heating.\n",
      "\n",
      "3. Communication & social capital: choose between\n",
      "   - We mix with many people who are a good influence on us. We use these connections to open up opportunities.\n",
      "   - We mix with people but we don't make the most of it.\n",
      "   - In our household we don't mix much and those people we know have a bad influence on some of us.\n",
      "\n",
      "4. Dental Care: choose between\n",
      "   - In our household everyone visits a dentist regularly.\n",
      "   - Someone in our household has not been to the dentist in the past 5 years.\n",
      "   - In our household someone needs to see a dentist but can't/doesn't know how to or can't pay for it.\n",
      "\n",
      "5. Registered to vote: choose between\n",
      "   - Everyone in our household is registered to vote and always does.\n",
      "   - Everyone in our household is registered to vote but doesn't always.\n",
      "   - In our household no one is registered to vote or we can't be bothered to vote.\n",
      "\n",
      "6. Entrepreneurial spirit: choose between\n",
      "   - In our household we have goals and we know how to achieve them.\n",
      "   - In our household we have some goals but can't always achieve them.\n",
      "   - In our household we don't have any goals or want any change【9†source】【10†source】【11†source】.\n",
      "\n",
      "\n",
      "On Dental Care, what should I choose if I go to dentist every year but my wife havent been for 6 years \n",
      "\n",
      "\n",
      "Based on the options provided in the survey, \"In our household everyone visits a dentist regularly\" seems to be the most suitable choice for the situation where you visit the dentist every year, but your wife hasn't been for 6 years. This option captures the regularity of dental visits in the household while also acknowledging that at least one member has not visited the dentist in the past 5 years【17†source】【18†source】.\n",
      "\n",
      "\n",
      "BYE\n",
      "\n",
      "\n",
      "Goodbye! If you have any more questions in the future, feel free to ask.\n",
      "\n",
      "\n"
     ]
    }
   ],
   "source": [
    "question = '' \n",
    "print(\"ASSISTENT CONNECTED, TYPE 'BYE' TO END THE CONVERSATION\")\n",
    "\n",
    "def display_thread_messages(messages):\n",
    "    # EXPECTS MESSAGES IN ASC ORDER!\n",
    "    for thread_message in messages.data:\n",
    "        print(thread_message.content[0].text.value)\n",
    "        print('\\n')\n",
    "        \n",
    "def wait_on_run(run, thread):\n",
    "    while run.status == \"queued\" or run.status == \"in_progress\":\n",
    "        run = client.beta.threads.runs.retrieve(\n",
    "            thread_id=thread.id,\n",
    "            run_id=run.id,\n",
    "        )\n",
    "        time.sleep(1)\n",
    "    return run\n",
    "\n",
    "while question != 'BYE':\n",
    "    question = input(\"\")\n",
    "    message = client.beta.threads.messages.create(\n",
    "    thread_id = thread.id,\n",
    "    role = \"user\",\n",
    "    content = question)\n",
    "    run = client.beta.threads.runs.create(\n",
    "    thread_id=thread.id,\n",
    "    assistant_id=assistant.id,)\n",
    "    run = client.beta.threads.runs.retrieve(\n",
    "    thread_id=thread.id,\n",
    "    run_id=run.id,)\n",
    "    run = wait_on_run(run,thread)\n",
    "    messages = client.beta.threads.messages.list(\n",
    "    thread_id=thread.id, order=\"asc\",)\n",
    "    display_thread_messages(messages)\n",
    "    "
   ]
  },
  {
   "cell_type": "code",
   "execution_count": null,
   "id": "4057bacd-f71c-4428-a791-9e69f24ef0b5",
   "metadata": {},
   "outputs": [],
   "source": []
  },
  {
   "cell_type": "markdown",
   "id": "a07b7c8e-db72-4139-b0a9-44220a492516",
   "metadata": {},
   "source": [
    "## Important Cost Saving: Delete Assistant and All Files"
   ]
  },
  {
   "cell_type": "code",
   "execution_count": null,
   "id": "2bc78254-c701-4116-97ea-da9aad6482c9",
   "metadata": {},
   "outputs": [],
   "source": [
    "my_assistants = client.beta.assistants.list(\n",
    "    order=\"desc\",\n",
    "    limit=\"20\",\n",
    ")\n",
    "response = client.beta.assistants.delete(my_assistants.data[0].id)\n",
    "print(response)"
   ]
  },
  {
   "cell_type": "code",
   "execution_count": null,
   "id": "3623b17a-8e0b-487b-9c52-977e29cd4013",
   "metadata": {},
   "outputs": [],
   "source": [
    "for file in client.files.list():\n",
    "    client.files.delete(file.id)"
   ]
  },
  {
   "cell_type": "code",
   "execution_count": null,
   "id": "d031dca0-19f6-49b9-b4fd-4e5164de66e5",
   "metadata": {},
   "outputs": [],
   "source": [
    "client.files.list()"
   ]
  }
 ],
 "metadata": {
  "kernelspec": {
   "display_name": "Python 3 (ipykernel)",
   "language": "python",
   "name": "python3"
  },
  "language_info": {
   "codemirror_mode": {
    "name": "ipython",
    "version": 3
   },
   "file_extension": ".py",
   "mimetype": "text/x-python",
   "name": "python",
   "nbconvert_exporter": "python",
   "pygments_lexer": "ipython3",
   "version": "3.10.9"
  }
 },
 "nbformat": 4,
 "nbformat_minor": 5
}
